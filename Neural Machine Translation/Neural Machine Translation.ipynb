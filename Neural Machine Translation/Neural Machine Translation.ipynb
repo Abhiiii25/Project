{
 "cells": [
  {
   "cell_type": "code",
   "execution_count": 4,
   "metadata": {
    "execution": {
     "iopub.execute_input": "2022-12-05T05:17:16.342489Z",
     "iopub.status.busy": "2022-12-05T05:17:16.341405Z",
     "iopub.status.idle": "2022-12-05T05:17:16.373321Z",
     "shell.execute_reply": "2022-12-05T05:17:16.372276Z",
     "shell.execute_reply.started": "2022-12-05T05:17:16.342380Z"
    }
   },
   "outputs": [],
   "source": [
    "# This Python 3 environment comes with many helpful analytics libraries installed\n",
    "# It is defined by the kaggle/python Docker image: https://github.com/kaggle/docker-python\n",
    "# For example, here's several helpful packages to load\n",
    "\n",
    "import numpy as np # linear algebra\n",
    "import pandas as pd # data processing, CSV file I/O (e.g. pd.read_csv)\n",
    "\n",
    "# Input data files are available in the read-only \"../input/\" directory\n",
    "# For example, running this (by clicking run or pressing Shift+Enter) will list all files under the input directory\n",
    "\n",
    "import os\n",
    "for dirname, _, filenames in os.walk('/kaggle/input'):\n",
    "    for filename in filenames:\n",
    "        print(os.path.join(dirname, filename))\n",
    "\n",
    "# You can write up to 5GB to the current directory (/kaggle/working/) that gets preserved as output when you create a version using \"Save & Run All\" \n",
    "# You can also write temporary files to /kaggle/temp/, but they won't be saved outside of the current session\n"
   ]
  },
  {
   "cell_type": "code",
   "execution_count": 5,
   "metadata": {
    "execution": {
     "iopub.execute_input": "2022-12-05T05:18:04.612979Z",
     "iopub.status.busy": "2022-12-05T05:18:04.612603Z",
     "iopub.status.idle": "2022-12-05T05:18:09.898863Z",
     "shell.execute_reply": "2022-12-05T05:18:09.897884Z",
     "shell.execute_reply.started": "2022-12-05T05:18:04.612944Z"
    }
   },
   "outputs": [],
   "source": [
    "from tensorflow.keras.models import Model\n",
    "from tensorflow.keras.layers import Input,LSTM,Dense\n",
    "\n",
    "batch_size=64\n",
    "epochs=100\n",
    "latent_dim=256\n",
    "num_samples=10000\n",
    "\n",
    "data_path='/kaggle/input/frenchenglish-dataset/fra.txt'"
   ]
  },
  {
   "cell_type": "code",
   "execution_count": 6,
   "metadata": {
    "execution": {
     "iopub.execute_input": "2022-12-05T05:18:47.052969Z",
     "iopub.status.busy": "2022-12-05T05:18:47.051762Z",
     "iopub.status.idle": "2022-12-05T05:18:47.505668Z",
     "shell.execute_reply": "2022-12-05T05:18:47.504690Z",
     "shell.execute_reply.started": "2022-12-05T05:18:47.052933Z"
    }
   },
   "outputs": [
    {
     "ename": "FileNotFoundError",
     "evalue": "[Errno 2] No such file or directory: '/kaggle/input/frenchenglish-dataset/fra.txt'",
     "output_type": "error",
     "traceback": [
      "\u001b[1;31m---------------------------------------------------------------------------\u001b[0m",
      "\u001b[1;31mFileNotFoundError\u001b[0m                         Traceback (most recent call last)",
      "Input \u001b[1;32mIn [6]\u001b[0m, in \u001b[0;36m<cell line: 6>\u001b[1;34m()\u001b[0m\n\u001b[0;32m      4\u001b[0m input_characters \u001b[38;5;241m=\u001b[39m \u001b[38;5;28mset\u001b[39m()\n\u001b[0;32m      5\u001b[0m target_characters \u001b[38;5;241m=\u001b[39m \u001b[38;5;28mset\u001b[39m()\n\u001b[1;32m----> 6\u001b[0m \u001b[38;5;28;01mwith\u001b[39;00m \u001b[38;5;28;43mopen\u001b[39;49m\u001b[43m(\u001b[49m\u001b[43mdata_path\u001b[49m\u001b[43m,\u001b[49m\u001b[43m \u001b[49m\u001b[38;5;124;43m'\u001b[39;49m\u001b[38;5;124;43mr\u001b[39;49m\u001b[38;5;124;43m'\u001b[39;49m\u001b[43m,\u001b[49m\u001b[43m \u001b[49m\u001b[43mencoding\u001b[49m\u001b[38;5;241;43m=\u001b[39;49m\u001b[38;5;124;43m'\u001b[39;49m\u001b[38;5;124;43mutf-8\u001b[39;49m\u001b[38;5;124;43m'\u001b[39;49m\u001b[43m)\u001b[49m \u001b[38;5;28;01mas\u001b[39;00m f:\n\u001b[0;32m      7\u001b[0m     lines \u001b[38;5;241m=\u001b[39m f\u001b[38;5;241m.\u001b[39mread()\u001b[38;5;241m.\u001b[39msplit(\u001b[38;5;124m'\u001b[39m\u001b[38;5;130;01m\\n\u001b[39;00m\u001b[38;5;124m'\u001b[39m)\n\u001b[0;32m      8\u001b[0m \u001b[38;5;28;01mfor\u001b[39;00m line \u001b[38;5;129;01min\u001b[39;00m lines[: \u001b[38;5;28mmin\u001b[39m(num_samples, \u001b[38;5;28mlen\u001b[39m(lines) \u001b[38;5;241m-\u001b[39m \u001b[38;5;241m1\u001b[39m)]:\n",
      "\u001b[1;31mFileNotFoundError\u001b[0m: [Errno 2] No such file or directory: '/kaggle/input/frenchenglish-dataset/fra.txt'"
     ]
    }
   ],
   "source": [
    "# Vectorize the data.\n",
    "input_texts = []\n",
    "target_texts = []\n",
    "input_characters = set()\n",
    "target_characters = set()\n",
    "with open(data_path, 'r', encoding='utf-8') as f:\n",
    "    lines = f.read().split('\\n')\n",
    "for line in lines[: min(num_samples, len(lines) - 1)]:\n",
    "    input_text, target_text, _ = line.split('\\t')\n",
    "    # We use \"tab\" as the \"start sequence\" character\n",
    "    # for the targets, and \"\\n\" as \"end sequence\" character.\n",
    "    target_text = '\\t' + target_text + '\\n'\n",
    "    input_texts.append(input_text)\n",
    "    target_texts.append(target_text)\n",
    "    for char in input_text:\n",
    "        if char not in input_characters:\n",
    "            input_characters.add(char)\n",
    "    for char in target_text:\n",
    "        if char not in target_characters:\n",
    "            target_characters.add(char)"
   ]
  },
  {
   "cell_type": "code",
   "execution_count": null,
   "metadata": {
    "execution": {
     "iopub.execute_input": "2022-12-05T05:19:07.193025Z",
     "iopub.status.busy": "2022-12-05T05:19:07.192644Z",
     "iopub.status.idle": "2022-12-05T05:19:07.201057Z",
     "shell.execute_reply": "2022-12-05T05:19:07.200006Z",
     "shell.execute_reply.started": "2022-12-05T05:19:07.192993Z"
    }
   },
   "outputs": [],
   "source": [
    "input_characters=sorted(list(input_characters))\n",
    "target_characters=sorted(list(target_characters))\n",
    "\n",
    "num_encoder_tokens=len(input_characters)\n",
    "num_decoder_tokens=len(target_characters)\n",
    "\n",
    "max_encoder_seq_length=max([len(txt) for txt in input_texts])\n",
    "max_decoder_seq_length=max([len(txt) for txt in target_texts])"
   ]
  },
  {
   "cell_type": "code",
   "execution_count": null,
   "metadata": {
    "execution": {
     "iopub.execute_input": "2022-12-05T05:19:28.023414Z",
     "iopub.status.busy": "2022-12-05T05:19:28.022745Z",
     "iopub.status.idle": "2022-12-05T05:19:28.029485Z",
     "shell.execute_reply": "2022-12-05T05:19:28.028525Z",
     "shell.execute_reply.started": "2022-12-05T05:19:28.023381Z"
    }
   },
   "outputs": [],
   "source": [
    "print('Number of samples:', len(input_texts))\n",
    "print('Number of unique input tokens:', num_encoder_tokens)\n",
    "print('Number of unique output tokens:', num_decoder_tokens)\n",
    "print('Max sequence length for inputs:', max_encoder_seq_length)\n",
    "print('Max sequence length for outputs:', max_decoder_seq_length)"
   ]
  },
  {
   "cell_type": "code",
   "execution_count": null,
   "metadata": {
    "execution": {
     "iopub.execute_input": "2022-12-05T05:19:48.748356Z",
     "iopub.status.busy": "2022-12-05T05:19:48.747698Z",
     "iopub.status.idle": "2022-12-05T05:19:48.754375Z",
     "shell.execute_reply": "2022-12-05T05:19:48.753119Z",
     "shell.execute_reply.started": "2022-12-05T05:19:48.748321Z"
    }
   },
   "outputs": [],
   "source": [
    "input_token_index=dict(\n",
    "    [(char,i) for i, char in enumerate(input_characters)])\n",
    "target_token_index=dict(\n",
    "[(char,i) for i, char in enumerate(target_characters)])"
   ]
  },
  {
   "cell_type": "code",
   "execution_count": null,
   "metadata": {
    "execution": {
     "iopub.execute_input": "2022-12-05T05:20:13.640776Z",
     "iopub.status.busy": "2022-12-05T05:20:13.639837Z",
     "iopub.status.idle": "2022-12-05T05:20:13.647548Z",
     "shell.execute_reply": "2022-12-05T05:20:13.646587Z",
     "shell.execute_reply.started": "2022-12-05T05:20:13.640732Z"
    }
   },
   "outputs": [],
   "source": [
    "encoder_input_data = np.zeros(\n",
    "    (len(input_texts), max_encoder_seq_length, num_encoder_tokens),\n",
    "    dtype='float32')\n",
    "decoder_input_data = np.zeros(\n",
    "    (len(input_texts), max_decoder_seq_length, num_decoder_tokens),\n",
    "    dtype='float32')\n",
    "decoder_target_data = np.zeros(\n",
    "    (len(input_texts), max_decoder_seq_length, num_decoder_tokens),\n",
    "    dtype='float32')"
   ]
  },
  {
   "cell_type": "code",
   "execution_count": null,
   "metadata": {
    "execution": {
     "iopub.execute_input": "2022-12-05T05:20:32.209540Z",
     "iopub.status.busy": "2022-12-05T05:20:32.208778Z",
     "iopub.status.idle": "2022-12-05T05:20:32.678110Z",
     "shell.execute_reply": "2022-12-05T05:20:32.677148Z",
     "shell.execute_reply.started": "2022-12-05T05:20:32.209501Z"
    }
   },
   "outputs": [],
   "source": [
    "for i, (input_text, target_text) in enumerate(zip(input_texts, target_texts)):\n",
    "    for t, char in enumerate(input_text):\n",
    "        encoder_input_data[i, t, input_token_index[char]] = 1.\n",
    "    encoder_input_data[i, t + 1:, input_token_index[' ']] = 1.\n",
    "    for t, char in enumerate(target_text):\n",
    "        # decoder_target_data is ahead of decoder_input_data by one timestep\n",
    "        decoder_input_data[i, t, target_token_index[char]] = 1.\n",
    "        if t > 0:\n",
    "            # decoder_target_data will be ahead by one timestep\n",
    "            # and will not include the start character.\n",
    "            decoder_target_data[i, t - 1, target_token_index[char]] = 1.\n",
    "    decoder_input_data[i, t + 1:, target_token_index[' ']] = 1.\n",
    "    decoder_target_data[i, t:, target_token_index[' ']] = 1."
   ]
  },
  {
   "cell_type": "code",
   "execution_count": null,
   "metadata": {
    "execution": {
     "iopub.execute_input": "2022-12-05T05:20:55.330878Z",
     "iopub.status.busy": "2022-12-05T05:20:55.330122Z",
     "iopub.status.idle": "2022-12-05T05:20:58.705511Z",
     "shell.execute_reply": "2022-12-05T05:20:58.704594Z",
     "shell.execute_reply.started": "2022-12-05T05:20:55.330836Z"
    }
   },
   "outputs": [],
   "source": [
    "# Define an input sequence and process it.\n",
    "encoder_inputs = Input(shape=(None, num_encoder_tokens))\n",
    "encoder = LSTM(latent_dim, return_state=True)\n",
    "encoder_outputs, state_h, state_c = encoder(encoder_inputs)\n",
    "# We discard `encoder_outputs` and only keep the states.\n",
    "encoder_states = [state_h, state_c]\n",
    "\n",
    "# Set up the decoder, using `encoder_states` as initial state.\n",
    "decoder_inputs = Input(shape=(None, num_decoder_tokens))\n",
    "# We set up our decoder to return full output sequences,\n",
    "# and to return internal states as well. We don't use the\n",
    "# return states in the training model, but we will use them in inference.\n",
    "decoder_lstm = LSTM(latent_dim, return_sequences=True, return_state=True)\n",
    "decoder_outputs, _, _ = decoder_lstm(decoder_inputs,\n",
    "                                     initial_state=encoder_states)\n",
    "decoder_dense = Dense(num_decoder_tokens, activation='softmax')\n",
    "decoder_outputs = decoder_dense(decoder_outputs)"
   ]
  },
  {
   "cell_type": "code",
   "execution_count": null,
   "metadata": {
    "execution": {
     "iopub.execute_input": "2022-12-05T05:21:35.315340Z",
     "iopub.status.busy": "2022-12-05T05:21:35.314837Z",
     "iopub.status.idle": "2022-12-05T05:24:34.479977Z",
     "shell.execute_reply": "2022-12-05T05:24:34.479021Z",
     "shell.execute_reply.started": "2022-12-05T05:21:35.315298Z"
    }
   },
   "outputs": [],
   "source": [
    "# Define the model that will turn\n",
    "# `encoder_input_data` & `decoder_input_data` into `decoder_target_data`\n",
    "model = Model([encoder_inputs, decoder_inputs], decoder_outputs)\n",
    "\n",
    "# Run training\n",
    "model.compile(optimizer='rmsprop', loss='categorical_crossentropy',\n",
    "              metrics=['accuracy'])\n",
    "model.fit([encoder_input_data, decoder_input_data], decoder_target_data,\n",
    "          batch_size=batch_size,\n",
    "          epochs=epochs,\n",
    "          validation_split=0.2)"
   ]
  },
  {
   "cell_type": "code",
   "execution_count": null,
   "metadata": {
    "execution": {
     "iopub.execute_input": "2022-12-05T05:25:46.583777Z",
     "iopub.status.busy": "2022-12-05T05:25:46.583265Z",
     "iopub.status.idle": "2022-12-05T05:25:46.592899Z",
     "shell.execute_reply": "2022-12-05T05:25:46.591639Z",
     "shell.execute_reply.started": "2022-12-05T05:25:46.583727Z"
    }
   },
   "outputs": [],
   "source": [
    "model.summary()"
   ]
  },
  {
   "cell_type": "code",
   "execution_count": null,
   "metadata": {
    "execution": {
     "iopub.execute_input": "2022-12-05T05:26:35.313527Z",
     "iopub.status.busy": "2022-12-05T05:26:35.313183Z",
     "iopub.status.idle": "2022-12-05T05:26:35.350441Z",
     "shell.execute_reply": "2022-12-05T05:26:35.349494Z",
     "shell.execute_reply.started": "2022-12-05T05:26:35.313497Z"
    }
   },
   "outputs": [],
   "source": [
    "model.save('eng2french.h5')"
   ]
  },
  {
   "cell_type": "code",
   "execution_count": null,
   "metadata": {
    "execution": {
     "iopub.execute_input": "2022-12-05T05:27:12.083643Z",
     "iopub.status.busy": "2022-12-05T05:27:12.083267Z",
     "iopub.status.idle": "2022-12-05T05:27:12.291785Z",
     "shell.execute_reply": "2022-12-05T05:27:12.290857Z",
     "shell.execute_reply.started": "2022-12-05T05:27:12.083600Z"
    }
   },
   "outputs": [],
   "source": [
    "# Define sampling models\n",
    "encoder_model = Model(encoder_inputs, encoder_states)\n",
    "\n",
    "decoder_state_input_h = Input(shape=(latent_dim,))\n",
    "decoder_state_input_c = Input(shape=(latent_dim,))\n",
    "decoder_states_inputs = [decoder_state_input_h, decoder_state_input_c]\n",
    "decoder_outputs, state_h, state_c = decoder_lstm(\n",
    "    decoder_inputs, initial_state=decoder_states_inputs)\n",
    "decoder_states = [state_h, state_c]\n",
    "decoder_outputs = decoder_dense(decoder_outputs)\n",
    "decoder_model = Model(\n",
    "    [decoder_inputs] + decoder_states_inputs,\n",
    "    [decoder_outputs] + decoder_states)\n",
    "\n",
    "# Reverse-lookup token index to decode sequences back to\n",
    "# something readable.\n",
    "reverse_input_char_index = dict(\n",
    "    (i, char) for char, i in input_token_index.items())\n",
    "reverse_target_char_index = dict(\n",
    "    (i, char) for char, i in target_token_index.items())"
   ]
  },
  {
   "cell_type": "code",
   "execution_count": null,
   "metadata": {
    "execution": {
     "iopub.execute_input": "2022-12-05T05:27:32.493761Z",
     "iopub.status.busy": "2022-12-05T05:27:32.493401Z",
     "iopub.status.idle": "2022-12-05T05:27:32.501795Z",
     "shell.execute_reply": "2022-12-05T05:27:32.500695Z",
     "shell.execute_reply.started": "2022-12-05T05:27:32.493730Z"
    }
   },
   "outputs": [],
   "source": [
    "def decode_sequence(input_seq):\n",
    "    # Encode the input as state vectors.\n",
    "    states_value = encoder_model.predict(input_seq)\n",
    "\n",
    "    # Generate empty target sequence of length 1.\n",
    "    target_seq = np.zeros((1, 1, num_decoder_tokens))\n",
    "    # Populate the first character of target sequence with the start character.\n",
    "    target_seq[0, 0, target_token_index['\\t']] = 1.\n",
    "\n",
    "    # Sampling loop for a batch of sequences\n",
    "    # (to simplify, here we assume a batch of size 1).\n",
    "    stop_condition = False\n",
    "    decoded_sentence = ''\n",
    "    while not stop_condition:\n",
    "        output_tokens, h, c = decoder_model.predict(\n",
    "            [target_seq] + states_value)\n",
    "\n",
    "        # Sample a token\n",
    "        sampled_token_index = np.argmax(output_tokens[0, -1, :])\n",
    "        sampled_char = reverse_target_char_index[sampled_token_index]\n",
    "        decoded_sentence += sampled_char\n",
    "\n",
    "        # Exit condition: either hit max length\n",
    "        # or find stop character.\n",
    "        if (sampled_char == '\\n' or\n",
    "           len(decoded_sentence) > max_decoder_seq_length):\n",
    "            stop_condition = True\n",
    "\n",
    "        # Update the target sequence (of length 1).\n",
    "        target_seq = np.zeros((1, 1, num_decoder_tokens))\n",
    "        target_seq[0, 0, sampled_token_index] = 1.\n",
    "\n",
    "        # Update states\n",
    "        states_value = [h, c]\n",
    "\n",
    "    return decoded_sentence"
   ]
  },
  {
   "cell_type": "code",
   "execution_count": null,
   "metadata": {
    "execution": {
     "iopub.execute_input": "2022-12-05T05:27:51.772947Z",
     "iopub.status.busy": "2022-12-05T05:27:51.772568Z",
     "iopub.status.idle": "2022-12-05T05:28:42.392020Z",
     "shell.execute_reply": "2022-12-05T05:28:42.391073Z",
     "shell.execute_reply.started": "2022-12-05T05:27:51.772915Z"
    }
   },
   "outputs": [],
   "source": [
    "for seq_index in range(100):\n",
    "    # Take one sequence (part of the training set)\n",
    "    # for trying out decoding.\n",
    "    input_seq = encoder_input_data[seq_index: seq_index + 1]\n",
    "    decoded_sentence = decode_sequence(input_seq)\n",
    "    print('-')\n",
    "    print('Input sentence:', input_texts[seq_index])\n",
    "    print('Decoded sentence:', decoded_sentence)"
   ]
  },
  {
   "cell_type": "code",
   "execution_count": null,
   "metadata": {
    "execution": {
     "iopub.execute_input": "2022-12-05T05:46:14.635719Z",
     "iopub.status.busy": "2022-12-05T05:46:14.634823Z",
     "iopub.status.idle": "2022-12-05T05:46:14.641487Z",
     "shell.execute_reply": "2022-12-05T05:46:14.640309Z",
     "shell.execute_reply.started": "2022-12-05T05:46:14.635682Z"
    }
   },
   "outputs": [],
   "source": [
    "from nltk.translate.bleu_score import corpus_bleu\n",
    "import pandas as pd"
   ]
  },
  {
   "cell_type": "code",
   "execution_count": null,
   "metadata": {
    "execution": {
     "iopub.execute_input": "2022-12-05T05:39:37.827491Z",
     "iopub.status.busy": "2022-12-05T05:39:37.826786Z",
     "iopub.status.idle": "2022-12-05T05:39:37.835065Z",
     "shell.execute_reply": "2022-12-05T05:39:37.834065Z",
     "shell.execute_reply.started": "2022-12-05T05:39:37.827444Z"
    }
   },
   "outputs": [],
   "source": [
    "def bleu_score(model, tokenizer, sources, raw_dataset):\n",
    "    # Get the bleu score of a model\n",
    "    actual, predicted = [], []\n",
    "    for i, source in enumerate(sources):\n",
    "        # translate encoded source text\n",
    "        source = source.reshape((1, source.shape[0]))\n",
    "        translation = predict_seq(model, tar_tokenizer, source)\n",
    "        raw_target, raw_src = raw_dataset[i]\n",
    "        actual.append([raw_target.split()])\n",
    "        predicted.append(translation.split())\n",
    "        \n",
    "    bleu_dic = {}\n",
    "    bleu_dic['1-grams'] = corpus_bleu(actual, predicted, weights=(1.0, 0, 0, 0))\n",
    "    bleu_dic['1-2-grams'] = corpus_bleu(actual, predicted, weights=(0.5, 0.5, 0, 0))\n",
    "    bleu_dic['1-3-grams'] = corpus_bleu(actual, predicted, weights=(0.3, 0.3, 0.3, 0))\n",
    "    bleu_dic['1-4-grams'] = corpus_bleu(actual, predicted, weights=(0.25, 0.25, 0.25, 0.25))\n",
    "    \n",
    "    return bleu_dic\n"
   ]
  },
  {
   "cell_type": "code",
   "execution_count": null,
   "metadata": {
    "execution": {
     "iopub.execute_input": "2022-12-05T05:39:49.057897Z",
     "iopub.status.busy": "2022-12-05T05:39:49.057231Z",
     "iopub.status.idle": "2022-12-05T05:39:49.078975Z",
     "shell.execute_reply": "2022-12-05T05:39:49.077671Z",
     "shell.execute_reply.started": "2022-12-05T05:39:49.057846Z"
    }
   },
   "outputs": [],
   "source": [
    "# Compute the BLEU Score\n",
    "bleu_train = bleu_score(model, tar_tokenizer, trainX, train)\n",
    "bleu_test = bleu_score(model, tar_tokenizer, testX, test)"
   ]
  }
 ],
 "metadata": {
  "kernelspec": {
   "display_name": "Python 3 (ipykernel)",
   "language": "python",
   "name": "python3"
  },
  "language_info": {
   "codemirror_mode": {
    "name": "ipython",
    "version": 3
   },
   "file_extension": ".py",
   "mimetype": "text/x-python",
   "name": "python",
   "nbconvert_exporter": "python",
   "pygments_lexer": "ipython3",
   "version": "3.9.12"
  }
 },
 "nbformat": 4,
 "nbformat_minor": 4
}
